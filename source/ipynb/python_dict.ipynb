{
 "cells": [
  {
   "cell_type": "markdown",
   "metadata": {},
   "source": [
    "### Module: DefaultDict\n",
    "\n",
    "实现了__missing__模式方法，在找不到对应键的时候返回默认值，而不是报KeyError"
   ]
  },
  {
   "cell_type": "markdown",
   "metadata": {},
   "source": [
    "### Magic Function: __missing__\n",
    "\n",
    "影响范围：__getitem__时，发生KeyError时被调用"
   ]
  }
 ],
 "metadata": {
  "language_info": {
   "name": "python"
  },
  "orig_nbformat": 4
 },
 "nbformat": 4,
 "nbformat_minor": 2
}
